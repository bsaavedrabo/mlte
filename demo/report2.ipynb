{
 "cells": [
  {
   "attachments": {},
   "cell_type": "markdown",
   "metadata": {},
   "source": [
    "## 2. Report Generation\n",
    "\n",
    "The final phase of SDMT involves aggregating evidence, validating the metrics reflected by the evidence we collected, and displaying this information in a report."
   ]
  },
  {
   "attachments": {},
   "cell_type": "markdown",
   "metadata": {},
   "source": [
    "#### Preliminaries"
   ]
  },
  {
   "cell_type": "code",
   "execution_count": null,
   "metadata": {},
   "outputs": [],
   "source": [
    "# Preliminaries for loading the package locally\n",
    "import os\n",
    "import sys\n",
    "\n",
    "def package_root() -> str:\n",
    "    \"\"\"Resolve the path to the project root.\"\"\"\n",
    "    return os.path.abspath(os.path.join(os.getcwd(), \"..\", \"src/\"))\n",
    "\n",
    "sys.path.append(package_root())\n",
    "sys.path.append(os.getcwd())"
   ]
  },
  {
   "cell_type": "code",
   "execution_count": null,
   "metadata": {},
   "outputs": [],
   "source": [
    "import os\n",
    "from pathlib import Path\n",
    "\n",
    "# The path at which media is stored\n",
    "REPORTS_DIR = Path(os.getcwd()) / \"reports\"\n",
    "os.makedirs(REPORTS_DIR, exist_ok=True)"
   ]
  },
  {
   "attachments": {},
   "cell_type": "markdown",
   "metadata": {},
   "source": [
    "#### Initialize MLTE Context\n",
    "\n",
    "MLTE contains a global context that manages the currently active _session_. Initializing the context tells MLTE how to store all of the artifacts that it produces."
   ]
  },
  {
   "cell_type": "code",
   "execution_count": null,
   "metadata": {},
   "outputs": [],
   "source": [
    "import mlte\n",
    "\n",
    "store_path = os.path.join(os.getcwd(), \"store\")\n",
    "\n",
    "mlte.set_model(\"IrisClassifier\", \"0.0.1\")\n",
    "mlte.set_artifact_store_uri(f\"local://{store_path}\")"
   ]
  },
  {
   "attachments": {},
   "cell_type": "markdown",
   "metadata": {},
   "source": [
    "#### Set Up Conditions\n",
    "\n",
    "In MLTE, a `Condition` indicates a validation to be performed on a Property."
   ]
  },
  {
   "cell_type": "code",
   "execution_count": null,
   "metadata": {},
   "outputs": [],
   "source": [
    "from mlte.spec import Spec, Condition\n",
    "from mlte.measurement import ExternalMeasurement\n",
    "from mlte.measurement.result import Real, Image\n",
    "from confusion_matrix import ConfusionMatrix\n",
    "from mlte.measurement.cpu import LocalProcessCPUUtilization\n",
    "from mlte.measurement.storage import LocalObjectSize\n",
    "\n",
    "# Load the specification\n",
    "spec = Spec.load()\n"
   ]
  },
  {
   "cell_type": "code",
   "execution_count": null,
   "metadata": {},
   "outputs": [],
   "source": [
    "# Add the conditions to validate.\n",
    "spec.add_condition(\"TaskEfficacy\", Condition(ExternalMeasurement(\"accuracy\", Real), \"greater_or_equal_to\", 0.9))\n",
    "spec.add_condition(\"TaskEfficacy\", Condition(ExternalMeasurement(\"confusion matrix\", ConfusionMatrix).metadata, \"misclassification_count_less_than\", 2))\n",
    "spec.add_condition(\"TaskEfficacy\", Condition(ExternalMeasurement(\"class distribution\", Image).metadata, \"ignore\", \"Inspect the image.\"))\n",
    "spec.add_condition(\"StorageCost\", Condition(LocalObjectSize(\"model size\").metadata, \"less_than\", 3000))\n",
    "#spec.add_condition(\"TrainingMemoryCost\", Condition(ExternalMeasurement(\"accuracy\", Real), \"greater_or_equal_to\", 0.9))\n",
    "spec.add_condition(\"TrainingComputeCost\", Condition(LocalProcessCPUUtilization(\"training cpu\").metadata, \"max_utilization_less_than\", 5.0))\n",
    "\n",
    "spec.save()"
   ]
  },
  {
   "attachments": {},
   "cell_type": "markdown",
   "metadata": {},
   "source": [
    "### Validate Results and Bind `Result`s to `Property`s"
   ]
  },
  {
   "cell_type": "code",
   "execution_count": null,
   "metadata": {},
   "outputs": [],
   "source": [
    "from mlte.measurement.result import Integer, Real, Image\n",
    "from mlte.measurement.cpu import CPUStatistics\n",
    "from confusion_matrix import ConfusionMatrix\n",
    "spec.add_result(Integer.load(\"model size\"))\n",
    "spec.add_result(CPUStatistics.load(\"training cpu\"))\n",
    "spec.add_result(Real.load(\"accuracy\"))\n",
    "spec.add_result(ConfusionMatrix.load(\"confusion matrix\"))\n",
    "spec.add_result(Image.load(\"class distribution\"))"
   ]
  },
  {
   "cell_type": "code",
   "execution_count": null,
   "metadata": {},
   "outputs": [],
   "source": [
    "# Validate conditions and get bound details.\n",
    "bound_spec = spec.validate_and_bind()\n",
    "\n",
    "# BoundSpec also supports persistence\n",
    "bound_spec.save()"
   ]
  },
  {
   "attachments": {},
   "cell_type": "markdown",
   "metadata": {},
   "source": [
    "#### Generate a Report\n",
    "\n",
    "The final step of SDMT involves the generation of a report to communicate the results of model evaluation."
   ]
  },
  {
   "cell_type": "code",
   "execution_count": null,
   "metadata": {},
   "outputs": [],
   "source": [
    "import time\n",
    "from mlte.report import Report, Dataset, User, UseCase, Limitation\n",
    "\n",
    "def unix_timestamp() -> str:\n",
    "    return f\"{int(time.time())}\"\n",
    "\n",
    "def build_report() -> Report:\n",
    "    report = Report()\n",
    "    report.metadata.project_name = \"IrisClassificationProject\"\n",
    "    report.metadata.authors = [\"Kyle Dotterrer\", \"Kate Maffey\"]\n",
    "    report.metadata.source_url = \"https://github.com/mlte-team\"\n",
    "    report.metadata.artifact_url = \"https://github.com/mlte-team\"\n",
    "    report.metadata.timestamp = unix_timestamp()\n",
    "\n",
    "    report.model_details.name = \"IrisClassifier\"\n",
    "    report.model_details.overview = \"A model that distinguishes among three (3) types of irises.\"\n",
    "    report.model_details.documentation = \"This is a simple model that can distinguish between the setosa, versicolour, and virginica species of Iris based on physical characteristics.\"\n",
    "\n",
    "    report.model_specification.domain = \"Classification\"\n",
    "    report.model_specification.architecture = \"Decision Tree\"\n",
    "    report.model_specification.input = \"Vector[4]\"\n",
    "    report.model_specification.output = \"Binary\"\n",
    "    report.model_specification.data = [\n",
    "        Dataset(\"Dataset0\", \"https://github.com/mlte-team\", \"This is one training dataset.\"),\n",
    "        Dataset(\"Dataset1\", \"https://github.com/mlte-team\", \"This is the other one we used.\"),\n",
    "    ]\n",
    "\n",
    "    report.considerations.users = [\n",
    "        User(\"Botanist\", \"A professional botanist.\"),\n",
    "        User(\"Explorer\", \"A weekend-warrior outdoor explorer.\"),\n",
    "    ]\n",
    "    report.considerations.use_cases = [\n",
    "        UseCase(\"Personal Edification\", \"Quench your curiosity: what species of iris IS that? Wonder no longer.\")\n",
    "    ]\n",
    "    report.considerations.limitations = [\n",
    "        Limitation(\n",
    "            \"Low Training Data Volume\",\n",
    "            \"\"\"\n",
    "            This model was trained on a low volume of training data.\n",
    "            \"\"\",\n",
    "        ),\n",
    "    ]\n",
    "    return report"
   ]
  },
  {
   "cell_type": "code",
   "execution_count": null,
   "metadata": {},
   "outputs": [],
   "source": [
    "from mlte.report import render\n",
    "\n",
    "# Build the base report\n",
    "report = build_report()\n",
    "# Attach the bound specification\n",
    "report.spec = bound_spec\n",
    "\n",
    "# Save the report as an HTML document\n",
    "report.to_html(REPORTS_DIR / \"report.html\", local=True)"
   ]
  },
  {
   "cell_type": "code",
   "execution_count": null,
   "metadata": {},
   "outputs": [],
   "source": []
  }
 ],
 "metadata": {
  "kernelspec": {
   "display_name": "mlte-LD5K66bu",
   "language": "python",
   "name": "python3"
  },
  "language_info": {
   "codemirror_mode": {
    "name": "ipython",
    "version": 3
   },
   "file_extension": ".py",
   "mimetype": "text/x-python",
   "name": "python",
   "nbconvert_exporter": "python",
   "pygments_lexer": "ipython3",
   "version": "3.9.6"
  },
  "orig_nbformat": 4,
  "vscode": {
   "interpreter": {
    "hash": "00dfac876982773ad0c80cc5795fa89329f95617498b25e5aba1061b1dcf5174"
   }
  }
 },
 "nbformat": 4,
 "nbformat_minor": 2
}
