{
 "cells": [
  {
   "attachments": {},
   "cell_type": "markdown",
   "metadata": {},
   "source": [
    "## 2. Report Generation\n",
    "\n",
    "The final phase of SDMT involves aggregating evidence, validating the metrics reflected by the evidence we collected, and displaying this information in a report."
   ]
  },
  {
   "attachments": {},
   "cell_type": "markdown",
   "metadata": {},
   "source": [
    "#### Preliminaries"
   ]
  },
  {
   "cell_type": "code",
   "execution_count": 1,
   "metadata": {},
   "outputs": [],
   "source": [
    "# Preliminaries for loading the package locally\n",
    "import os\n",
    "import sys\n",
    "\n",
    "def package_root() -> str:\n",
    "    \"\"\"Resolve the path to the project root.\"\"\"\n",
    "    return os.path.abspath(os.path.join(os.getcwd(), \"..\", \"src/\"))\n",
    "\n",
    "sys.path.append(package_root())"
   ]
  },
  {
   "attachments": {},
   "cell_type": "markdown",
   "metadata": {},
   "source": [
    "#### Initialize MLTE Context"
   ]
  },
  {
   "cell_type": "code",
   "execution_count": 2,
   "metadata": {},
   "outputs": [],
   "source": [
    "import mlte\n",
    "\n",
    "store_path = os.path.join(os.getcwd(), \"store\")\n",
    "\n",
    "mlte.set_model(\"IrisClassifier\", \"0.0.1\")\n",
    "mlte.set_artifact_store_uri(f\"local://{store_path}\")"
   ]
  },
  {
   "attachments": {},
   "cell_type": "markdown",
   "metadata": {},
   "source": [
    "#### Define a Binding\n",
    "\n",
    "In MLTE, a `Binding` associates individual results with the properties to which they attest."
   ]
  },
  {
   "cell_type": "code",
   "execution_count": 3,
   "metadata": {},
   "outputs": [],
   "source": [
    "from mlte.binding import Binding\n",
    "\n",
    "binding = Binding(\n",
    "    {\n",
    "        \"TaskEfficacy\": [\n",
    "            \"accuracy\",\n",
    "            \"confusion matrix\",\n",
    "            \"class distribution\"\n",
    "        ],\n",
    "        \"StorageCost\": [\n",
    "            \"model size\"\n",
    "        ],\n",
    "        \"TrainingComputeCost\": [\n",
    "            \"training cpu\"\n",
    "        ],\n",
    "        \"TrainingMemoryCost\": [\n",
    "            \"training memory\"\n",
    "        ]\n",
    "    }\n",
    ")\n",
    "\n",
    "# Binding also supports persistence\n",
    "binding.save()"
   ]
  },
  {
   "attachments": {},
   "cell_type": "markdown",
   "metadata": {},
   "source": [
    "#### Load Specification"
   ]
  },
  {
   "cell_type": "code",
   "execution_count": 4,
   "metadata": {},
   "outputs": [],
   "source": [
    "from mlte.spec import Spec\n",
    "from mlte.measurement.result import Real, Integer\n",
    "from mlte.measurement.memory import MemoryStatistics\n",
    "\n",
    "# Load the specification\n",
    "spec = Spec.load()"
   ]
  },
  {
   "attachments": {},
   "cell_type": "markdown",
   "metadata": {},
   "source": [
    "#### Validate Results"
   ]
  },
  {
   "cell_type": "code",
   "execution_count": 5,
   "metadata": {},
   "outputs": [],
   "source": [
    "from mlte.measurement.result import Integer\n",
    "model_size: Integer = Integer.load(\"model size\")\n",
    "model_size = model_size.less_than(3000)"
   ]
  },
  {
   "cell_type": "code",
   "execution_count": 6,
   "metadata": {},
   "outputs": [],
   "source": [
    "from mlte.measurement.cpu import CPUStatistics\n",
    "cpu_utilization: CPUStatistics = CPUStatistics.load(\"training cpu\")\n",
    "cpu_utilization = cpu_utilization.max_utilization_less_than(5.0)"
   ]
  },
  {
   "cell_type": "code",
   "execution_count": 7,
   "metadata": {},
   "outputs": [],
   "source": [
    "from mlte.measurement.memory import MemoryStatistics\n",
    "memory_consumption: MemoryStatistics = MemoryStatistics.load(\"training memory\")\n",
    "memory_consumption = memory_consumption.average_consumption_less_than(1_000_000)"
   ]
  },
  {
   "cell_type": "code",
   "execution_count": 8,
   "metadata": {},
   "outputs": [],
   "source": [
    "from mlte.measurement.result import Real\n",
    "accuracy: Real = Real.load(\"accuracy\")\n",
    "accuracy = accuracy.greater_or_equal_to(0.9)"
   ]
  },
  {
   "cell_type": "code",
   "execution_count": 9,
   "metadata": {},
   "outputs": [
    {
     "data": {
      "text/plain": [
       "<mlte.measurement.validation.validation_result.Ignore at 0x7f1ddb765f70>"
      ]
     },
     "execution_count": 9,
     "metadata": {},
     "output_type": "execute_result"
    }
   ],
   "source": [
    "from mlte.measurement.result import Image\n",
    "class_distribution: Image = Image.load(\"class distribution\")\n",
    "class_distribution = class_distribution.ignore(\"Inspect the image.\")"
   ]
  }
 ],
 "metadata": {
  "kernelspec": {
   "display_name": "env",
   "language": "python",
   "name": "python3"
  },
  "language_info": {
   "codemirror_mode": {
    "name": "ipython",
    "version": 3
   },
   "file_extension": ".py",
   "mimetype": "text/x-python",
   "name": "python",
   "nbconvert_exporter": "python",
   "pygments_lexer": "ipython3",
   "version": "3.8.10"
  },
  "orig_nbformat": 4,
  "vscode": {
   "interpreter": {
    "hash": "82adda432962015d5f71beb9387a99f24d390514e497c776c87ff3434daf7312"
   }
  }
 },
 "nbformat": 4,
 "nbformat_minor": 2
}
