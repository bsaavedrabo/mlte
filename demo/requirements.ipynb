{
 "cells": [
  {
   "attachments": {},
   "cell_type": "markdown",
   "metadata": {},
   "source": [
    "## 0. Define a Specification\n",
    "\n",
    "In the first phase of SDMT, we define a `Specification` that represents the requirements the completed model must meet in order to be acceptable for use in the system into which it will be integrated."
   ]
  },
  {
   "attachments": {},
   "cell_type": "markdown",
   "metadata": {},
   "source": [
    "### Preliminaries"
   ]
  },
  {
   "cell_type": "code",
   "execution_count": 1,
   "metadata": {},
   "outputs": [],
   "source": [
    "# Preliminaries for loading the package locally\n",
    "import os\n",
    "import sys\n",
    "\n",
    "def package_root() -> str:\n",
    "    \"\"\"Resolve the path to the project root.\"\"\"\n",
    "    return os.path.abspath(os.path.join(os.getcwd(), \"..\", \"src/\"))\n",
    "\n",
    "sys.path.append(package_root())"
   ]
  },
  {
   "attachments": {},
   "cell_type": "markdown",
   "metadata": {},
   "source": [
    "#### Initialize MLTE Context\n",
    "\n",
    "MLTE contains a global context that manages the currently active _session_. Initializing the context tells MLTE how to store all of the artifacts that it produces."
   ]
  },
  {
   "cell_type": "code",
   "execution_count": 2,
   "metadata": {},
   "outputs": [],
   "source": [
    "import mlte\n",
    "import os\n",
    "\n",
    "store_path = os.path.join(os.getcwd(), \"store\")\n",
    "os.makedirs(store_path, exist_ok=True)   # Ensure we are creating the folder if it is not there.\n",
    "\n",
    "mlte.set_model(\"IrisClassifier\", \"0.0.1\")\n",
    "mlte.set_artifact_store_uri(f\"local://{store_path}\")"
   ]
  },
  {
   "attachments": {},
   "cell_type": "markdown",
   "metadata": {},
   "source": [
    "#### Build a `Specification`\n",
    "\n",
    "In MLTE, we define requirements by constructing a specification (`Spec`). For each property, we define the validations to perform as well."
   ]
  },
  {
   "cell_type": "code",
   "execution_count": 3,
   "metadata": {},
   "outputs": [],
   "source": [
    "from mlte.spec import Spec, Requirement\n",
    "\n",
    "from mlte.property.costs import (\n",
    "    StorageCost,\n",
    "    TrainingComputeCost,\n",
    "    TrainingMemoryCost\n",
    ")\n",
    "from mlte.property.functionality import TaskEfficacy\n",
    "\n",
    "\n",
    "from mlte.measurement.storage import LocalObjectSize\n",
    "from mlte.measurement.cpu import LocalProcessCPUUtilization\n",
    "from mlte.measurement.memory import LocalProcessMemoryConsumption\n",
    "from confusion_matrix import ConfusionMatrix\n",
    "from mlte.value.types import Real, Image\n",
    "\n",
    "spec = Spec({\n",
    "    TaskEfficacy(\"Important to understand if the model is useful for this case\"): \n",
    "                    [Requirement(\"accuracy\", Real.greater_or_equal_to(0.9)),\n",
    "                     Requirement(\"confusion matrix\", ConfusionMatrix.misclassification_count_less_than(2)),\n",
    "                     Requirement(\"class distribution\", Image.ignore(\"Inspect the image.\"))],\n",
    "    StorageCost(\"Critical since model will be in an embedded decice\"): \n",
    "                    [Requirement(\"model size\", LocalObjectSize.value().less_than(3000))],\n",
    "    TrainingMemoryCost(\"Useful to evaluate resources needed\"): \n",
    "                    [Requirement(\"training memory\", LocalProcessMemoryConsumption.value().average_consumption_less_than(0.9))],\n",
    "    TrainingComputeCost(\"Useful to evaluate resources needed\"): \n",
    "                    [Requirement(\"training cpu\", LocalProcessCPUUtilization.value().max_utilization_less_than(5.0))]\n",
    "    })\n",
    "spec.save()"
   ]
  }
 ],
 "metadata": {
  "kernelspec": {
   "display_name": "env",
   "language": "python",
   "name": "python3"
  },
  "language_info": {
   "codemirror_mode": {
    "name": "ipython",
    "version": 3
   },
   "file_extension": ".py",
   "mimetype": "text/x-python",
   "name": "python",
   "nbconvert_exporter": "python",
   "pygments_lexer": "ipython3",
   "version": "3.8.10"
  },
  "orig_nbformat": 4,
  "vscode": {
   "interpreter": {
    "hash": "82adda432962015d5f71beb9387a99f24d390514e497c776c87ff3434daf7312"
   }
  }
 },
 "nbformat": 4,
 "nbformat_minor": 2
}
