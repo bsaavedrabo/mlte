{
 "cells": [
  {
   "attachments": {},
   "cell_type": "markdown",
   "metadata": {},
   "source": [
    "## 0. Define a Specification\n",
    "\n",
    "In the first phase of SDMT, we define a `Specification` that represents the requirements the completed model must meet in order to be acceptable for use in the system into which it will be integrated."
   ]
  },
  {
   "attachments": {},
   "cell_type": "markdown",
   "metadata": {},
   "source": [
    "#### Initialize MLTE Context\n",
    "\n",
    "MLTE contains a global context that manages the currently active _session_. Initializing the context tells MLTE how to store all of the artifacts that it produces."
   ]
  },
  {
   "cell_type": "code",
   "execution_count": 1,
   "metadata": {},
   "outputs": [],
   "source": [
    "import os\n",
    "from mlte.session import set_context, set_store\n",
    "\n",
    "store_path = os.path.join(os.getcwd(), \"store\")\n",
    "os.makedirs(store_path, exist_ok=True)   # Ensure we are creating the folder if it is not there.\n",
    "\n",
    "set_context(\"ns\", \"OxfordFlower\", \"0.0.1\")\n",
    "set_store(f\"local://{store_path}\")"
   ]
  },
  {
   "attachments": {},
   "cell_type": "markdown",
   "metadata": {},
   "source": [
    "#### Build a `Specification`\n",
    "\n",
    "In MLTE, we define requirements by constructing a specification (`Spec`). For each property, we define the validations to perform as well."
   ]
  },
  {
   "cell_type": "code",
   "execution_count": 2,
   "metadata": {},
   "outputs": [],
   "source": [
    "from mlte.spec.spec import Spec\n",
    "\n",
    "from mlte.property.fairness.fairness import Fairness\n",
    "from mlte.property.robustness.robustness import Robustness\n",
    "\n",
    "from mlte.property.costs import (\n",
    "    StorageCost,\n",
    "    PredictingComputeCost,\n",
    "    PredictingMemoryCost\n",
    ")\n",
    "\n",
    "from mlte.measurement.storage import LocalObjectSize\n",
    "from mlte.measurement.cpu import LocalProcessCPUUtilization\n",
    "from mlte.measurement.memory import LocalProcessMemoryConsumption\n",
    "\n",
    "from multiple_accuracy import MultipleAccuracy\n",
    "from ranksums import RankSums\n",
    "from multiple_ranksums import MultipleRanksums\n",
    "\n",
    "spec = Spec(properties={\n",
    "    Fairness(\"Important check if model performs well accross different populations\"): \n",
    "                {\"accuracy across gardens\": MultipleAccuracy.all_accuracies_more_or_equal_than(0.9)},\n",
    "    Robustness(\"Robust against blur and noise\"): \n",
    "                {\"ranksums blur2x8\": RankSums.p_value_greater_or_equal_to(0.05/3),\n",
    "                 \"ranksums blur5x8\": RankSums.p_value_greater_or_equal_to(0.05/3),\n",
    "                 \"ranksums blur0x8\": RankSums.p_value_greater_or_equal_to(0.05/3),\n",
    "                 \"multiple ranksums for clade2\": MultipleRanksums.all_p_values_greater_or_equal_than(0.05),\n",
    "                 \"multiple ranksums between clade2 and 3\": MultipleRanksums.all_p_values_greater_or_equal_than(0.05),\n",
    "                },\n",
    "    StorageCost(\"Critical since model will be in an embedded device\"): \n",
    "                    {\"model size\": LocalObjectSize.value().less_than(3000)},                \n",
    "    PredictingMemoryCost(\"Useful to evaluate resources needed when predicting\"): \n",
    "                    {\"predicting memory\": LocalProcessMemoryConsumption.value().average_consumption_less_than(0.9)},\n",
    "    PredictingComputeCost(\"Useful to evaluate resources needed when predicting\"): \n",
    "                    {\"predicting cpu\": LocalProcessCPUUtilization.value().max_utilization_less_than(5.0)}                \n",
    "    })\n",
    "spec.save(parents=True, force=True)"
   ]
  }
 ],
 "metadata": {
  "kernelspec": {
   "display_name": "env",
   "language": "python",
   "name": "python3"
  },
  "language_info": {
   "codemirror_mode": {
    "name": "ipython",
    "version": 3
   },
   "file_extension": ".py",
   "mimetype": "text/x-python",
   "name": "python",
   "nbconvert_exporter": "python",
   "pygments_lexer": "ipython3",
   "version": "3.9.4"
  },
  "orig_nbformat": 4,
  "vscode": {
   "interpreter": {
    "hash": "82adda432962015d5f71beb9387a99f24d390514e497c776c87ff3434daf7312"
   }
  }
 },
 "nbformat": 4,
 "nbformat_minor": 2
}
